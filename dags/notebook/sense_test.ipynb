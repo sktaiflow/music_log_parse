{
 "cells": [
  {
   "cell_type": "code",
   "execution_count": 4,
   "id": "16e47dd0-3b16-429e-88ed-edb37c2e3540",
   "metadata": {
    "execution": {
     "iopub.execute_input": "2024-01-31T02:05:03.663545Z",
     "iopub.status.busy": "2024-01-31T02:05:03.662744Z",
     "iopub.status.idle": "2024-01-31T02:05:03.676240Z",
     "shell.execute_reply": "2024-01-31T02:05:03.674770Z",
     "shell.execute_reply.started": "2024-01-31T02:05:03.663458Z"
    },
    "tags": []
   },
   "outputs": [],
   "source": [
    "f = open(\"/home/x1113496/lab1/test1050.txt\", \"w\")\n",
    "f.write(\"hahaaa!!\")\n",
    "f.close()"
   ]
  },
  {
   "cell_type": "code",
   "execution_count": 6,
   "id": "55f2888e-ea97-481a-a4ab-f4f939617cf1",
   "metadata": {
    "execution": {
     "iopub.execute_input": "2024-01-30T09:12:12.012326Z",
     "iopub.status.busy": "2024-01-30T09:12:12.011418Z",
     "iopub.status.idle": "2024-01-30T09:12:12.018540Z",
     "shell.execute_reply": "2024-01-30T09:12:12.016915Z",
     "shell.execute_reply.started": "2024-01-30T09:12:12.012263Z"
    },
    "tags": []
   },
   "outputs": [],
   "source": [
    "#!pwd"
   ]
  },
  {
   "cell_type": "code",
   "execution_count": null,
   "id": "8553eb4d-81c5-49f2-8ee2-081f03e71d0b",
   "metadata": {},
   "outputs": [],
   "source": []
  }
 ],
 "metadata": {
  "kernelspec": {
   "display_name": "Python 3 (ipykernel)",
   "language": "python",
   "name": "python3"
  },
  "language_info": {
   "codemirror_mode": {
    "name": "ipython",
    "version": 3
   },
   "file_extension": ".py",
   "mimetype": "text/x-python",
   "name": "python",
   "nbconvert_exporter": "python",
   "pygments_lexer": "ipython3",
   "version": "3.8.13"
  }
 },
 "nbformat": 4,
 "nbformat_minor": 5
}
